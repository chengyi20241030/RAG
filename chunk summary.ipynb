{
 "cells": [
  {
   "cell_type": "markdown",
   "id": "b0cba384-21b9-42e9-baec-4773e3ae819e",
   "metadata": {},
   "source": [
    "# Chunk Summary"
   ]
  },
  {
   "cell_type": "code",
   "execution_count": 4,
   "id": "0661bfa0-0d2a-4bb5-94b1-2cedd02428c4",
   "metadata": {},
   "outputs": [
    {
     "name": "stdout",
     "output_type": "stream",
     "text": [
      "Summarized Chunks: Solar cells utilize semiconductor materials to convert sunlight into electrical power.\n"
     ]
    }
   ],
   "source": [
    "import openai\n",
    "import os\n",
    "\n",
    "openai.api_key = os.getenv(\"OPENAI_API_KEY\")\n",
    "\n",
    "def summarize_chunks(chunks):\n",
    "    content_to_summarize = \"\\n\\n\".join(chunks)\n",
    "    messages = [\n",
    "        {\"role\": \"system\", \"content\": \"You are an assistant skilled at summarizing information without redundancy.\"},\n",
    "        {\"role\": \"user\", \"content\": f\"Summarize the following information, removing any redundant or repetitive information:\\n\\n{content_to_summarize}\"}\n",
    "    ]\n",
    "    response = openai.ChatCompletion.create(\n",
    "        model=\"gpt-3.5-turbo\",\n",
    "        messages=messages,\n",
    "        max_tokens=200,\n",
    "        temperature=0.5\n",
    "    )\n",
    "\n",
    "    summarized_text = response.choices[0].message['content'].strip()\n",
    "    return summarized_text\n",
    "\n",
    "chunks = [\n",
    "    \"Using semiconductor materials, solar cells can harness sunlight and convert it into electrical power.\",\n",
    "    \"By absorbing sunlight, the semiconductor materials within solar cells generate electricity.\",\n",
    "    \"Solar cells, which use semiconductor materials, are capable of converting solar energy directly into electricity.\",\n",
    "    \"Electricity generation in solar cells is achieved by semiconductor materials that capture sunlight.\",\n",
    "    \"Sunlight is transformed into electrical energy through the semiconductor components in solar cells.\",\n",
    "    \"Solar cells depend on semiconductor materials to turn sunlight into electricity.\" \n",
    "]\n",
    "summarized_text = summarize_chunks(chunks)\n",
    "print(\"Summarized Chunks:\", summarized_text)"
   ]
  },
  {
   "cell_type": "code",
   "execution_count": null,
   "id": "45a94444-5846-4780-a9a8-714d0f78cdc1",
   "metadata": {},
   "outputs": [],
   "source": []
  }
 ],
 "metadata": {
  "kernelspec": {
   "display_name": "Python (myProject)",
   "language": "python",
   "name": "myproject"
  },
  "language_info": {
   "codemirror_mode": {
    "name": "ipython",
    "version": 3
   },
   "file_extension": ".py",
   "mimetype": "text/x-python",
   "name": "python",
   "nbconvert_exporter": "python",
   "pygments_lexer": "ipython3",
   "version": "3.10.14"
  }
 },
 "nbformat": 4,
 "nbformat_minor": 5
}
