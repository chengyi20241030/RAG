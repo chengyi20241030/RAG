{
 "cells": [
  {
   "cell_type": "markdown",
   "id": "8566de62-e84e-456d-98b4-16f62f8096b5",
   "metadata": {},
   "source": [
    "# Synonym Expansion"
   ]
  },
  {
   "cell_type": "code",
   "execution_count": 56,
   "id": "9aa5bfe7-c78d-4426-aa2c-0d19f05e2c45",
   "metadata": {},
   "outputs": [
    {
     "name": "stdout",
     "output_type": "stream",
     "text": [
      "['Tell me about the latest advancements in AI.',\n",
      " 'Tell me about the latest advancements in artificial intelligence.',\n",
      " 'Tell me about the latest advancements in machine learning.',\n",
      " 'Tell me about the latest advancements in deep learning.',\n",
      " 'Tell me about the latest improvements in AI.',\n",
      " 'Tell me about the latest innovations in AI.',\n",
      " 'Tell me about the latest progress in AI.']\n"
     ]
    }
   ],
   "source": [
    "import spacy\n",
    "from nltk.corpus import wordnet\n",
    "\n",
    "nlp = spacy.load(\"en_core_web_sm\")\n",
    "def get_synonyms(word):\n",
    "    synonyms = set()\n",
    "    for syn in wordnet.synsets(word):\n",
    "        for lemma in syn.lemmas():\n",
    "            synonyms.add(lemma.name())\n",
    "    return list(synonyms)\n",
    "\n",
    "def query_expansion(query):\n",
    "    doc = nlp(query)\n",
    "    expanded_queries = [query]\n",
    "\n",
    "    for token in doc:\n",
    "        if token.pos_ == \"PROPN\" or token.pos_ == \"NOUN\":\n",
    "            synonyms = get_synonyms(token.text)\n",
    "            for synonym in synonyms:\n",
    "                expanded_queries.append(query.replace(token.text, synonym))\n",
    "    \n",
    "    return expanded_queries\n",
    "\n",
    "query = \"Tell me about the latest advancements in AI.\"\n",
    "expanded_queries = query_expansion(query)\n",
    "\n",
    "pprint( expanded_queries )"
   ]
  },
  {
   "cell_type": "markdown",
   "id": "38523ded-09e8-408b-8562-46dd44c4e6e7",
   "metadata": {},
   "source": [
    "# Semantic Query Expansion"
   ]
  },
  {
   "cell_type": "code",
   "execution_count": 2,
   "id": "7026df5c-a02d-4cb3-98be-7752fa82f4a8",
   "metadata": {},
   "outputs": [
    {
     "name": "stdout",
     "output_type": "stream",
     "text": [
      "['Certainly! Here are some expanded queries with semantically similar terms '\n",
      " \"and phrases related to 'latest advancements in AI':\",\n",
      " '',\n",
      " '1. What are the recent breakthroughs in artificial intelligence?',\n",
      " '2. Can you provide information on the most recent AI developments?',\n",
      " \"3. I'm interested in learning about the cutting-edge innovations in AI.\",\n",
      " '4. What are the newest trends and advancements in artificial intelligence '\n",
      " 'technology?',\n",
      " '5. Please update me on the latest progress in the field of AI.',\n",
      " '6. Share the recent advancements and innovations in artificial intelligence.',\n",
      " '7. What are the current developments shaping the landscape of AI '\n",
      " 'technologies?',\n",
      " \"8. I'd like to know more about the state-of-the-art AI advancements.\",\n",
      " '9. Could you brief me on the recent AI discoveries and improvements?',\n",
      " '10.']\n"
     ]
    }
   ],
   "source": [
    "import openai\n",
    "import os\n",
    "from pprint import pprint\n",
    "\n",
    "openai.api_key = os.getenv(\"OPENAI_API_KEY\")\n",
    "def semantic_query_expansion(query):\n",
    "    # Prompt for semantic expansion\n",
    "    prompt = f\"Expand the following query with semantically similar terms and phrases: '{query}'\\n\"\n",
    "    \n",
    "    response = openai.ChatCompletion.create(\n",
    "        model=\"gpt-3.5-turbo\",\n",
    "        messages=[\n",
    "            {\"role\": \"system\", \"content\": \"You are a helpful assistant.\"},\n",
    "            {\"role\": \"user\", \"content\": prompt}\n",
    "        ],\n",
    "        max_tokens=150,\n",
    "        n=1,\n",
    "        stop=None,\n",
    "        temperature=0.7\n",
    "    )\n",
    "    \n",
    "    expanded_queries = response.choices[0].message['content'].strip().split('\\n')\n",
    "    return expanded_queries\n",
    "\n",
    "query = \"Tell me about the latest advancements in AI.\"\n",
    "expanded_queries = semantic_query_expansion(query)\n",
    "pprint( expanded_queries )"
   ]
  },
  {
   "cell_type": "code",
   "execution_count": null,
   "id": "8fe3535d-fe57-47a0-a8b1-c39b014e2f3c",
   "metadata": {},
   "outputs": [],
   "source": []
  }
 ],
 "metadata": {
  "kernelspec": {
   "display_name": "KnowledgeBase",
   "language": "python",
   "name": "myknowledgebasetest"
  },
  "language_info": {
   "codemirror_mode": {
    "name": "ipython",
    "version": 3
   },
   "file_extension": ".py",
   "mimetype": "text/x-python",
   "name": "python",
   "nbconvert_exporter": "python",
   "pygments_lexer": "ipython3",
   "version": "3.10.14"
  }
 },
 "nbformat": 4,
 "nbformat_minor": 5
}
