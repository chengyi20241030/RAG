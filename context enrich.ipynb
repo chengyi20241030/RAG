{
 "cells": [
  {
   "cell_type": "markdown",
   "id": "7b172380-96df-4d26-a832-75ede6e9ff16",
   "metadata": {},
   "source": [
    "# Enrich Chunk with Gobal Context"
   ]
  },
  {
   "cell_type": "code",
   "execution_count": 1,
   "id": "9f6ecadf-de19-4762-9ffe-5aa9247e868f",
   "metadata": {},
   "outputs": [
    {
     "name": "stderr",
     "output_type": "stream",
     "text": [
      "No model was supplied, defaulted to sshleifer/distilbart-cnn-12-6 and revision a4f8f3e (https://huggingface.co/sshleifer/distilbart-cnn-12-6).\n",
      "Using a pipeline without specifying a model name and revision in production is not recommended.\n"
     ]
    },
    {
     "name": "stdout",
     "output_type": "stream",
     "text": [
      "Chunk: Artificial intelligence (AI) is revolutionizing healthcare by providing advanced diagnostic tools, personalized treatment plans, and improved patient care.\n",
      "\n",
      "Summary:  Artificial intelligence (AI) is revolutionizing healthcare by providing advanced diagnostic tools, personalized treatment plans, and improved patient care . Machine learning algorithms analyze large datasets to identify patterns and predict outcomes .\n",
      "\n",
      "Chunk: Machine learning algorithms analyze large datasets to identify patterns and predict outcomes, aiding doctors in making more informed decisions.\n",
      "\n",
      "Summary:  Artificial intelligence (AI) is revolutionizing healthcare by providing advanced diagnostic tools, personalized treatment plans, and improved patient care . Machine learning algorithms analyze large datasets to identify patterns and predict outcomes .\n",
      "\n",
      "Chunk: AI-powered systems can automate routine tasks, reducing the burden on healthcare professionals and allowing them to focus on more complex patient care.\n",
      "\n",
      "Summary:  Artificial intelligence (AI) is revolutionizing healthcare by providing advanced diagnostic tools, personalized treatment plans, and improved patient care . Machine learning algorithms analyze large datasets to identify patterns and predict outcomes .\n",
      "\n",
      "Chunk: The integration of AI in healthcare is also improving the accuracy and efficiency of medical research.\n",
      "\n",
      "Summary:  Artificial intelligence (AI) is revolutionizing healthcare by providing advanced diagnostic tools, personalized treatment plans, and improved patient care . Machine learning algorithms analyze large datasets to identify patterns and predict outcomes .\n",
      "\n",
      "Chunk: Despite the benefits, there are challenges such as data privacy concerns and the need for robust regulatory frameworks.\n",
      "\n",
      "Summary:  Artificial intelligence (AI) is revolutionizing healthcare by providing advanced diagnostic tools, personalized treatment plans, and improved patient care . Machine learning algorithms analyze large datasets to identify patterns and predict outcomes .\n",
      "\n"
     ]
    },
    {
     "data": {
      "application/vnd.jupyter.widget-view+json": {
       "model_id": "371f85e67c0c4d59b9f02e5bb04e3d40",
       "version_major": 2,
       "version_minor": 0
      },
      "text/plain": [
       "model.safetensors:   0%|          | 0.00/1.22G [00:00<?, ?B/s]"
      ]
     },
     "metadata": {},
     "output_type": "display_data"
    }
   ],
   "source": [
    "from transformers import pipeline\n",
    "summarizer = pipeline(\"summarization\")\n",
    "\n",
    "document = \"\"\"\n",
    "Artificial intelligence (AI) is revolutionizing healthcare by providing advanced diagnostic tools, personalized treatment plans, and improved patient care. \n",
    "Machine learning algorithms analyze large datasets to identify patterns and predict outcomes, aiding doctors in making more informed decisions. \n",
    "AI-powered systems can automate routine tasks, reducing the burden on healthcare professionals and allowing them to focus on more complex patient care. \n",
    "The integration of AI in healthcare is also improving the accuracy and efficiency of medical research. \n",
    "Despite the benefits, there are challenges such as data privacy concerns and the need for robust regulatory frameworks.\n",
    "\"\"\"\n",
    "summary = summarizer(document, max_length=50, min_length=25, do_sample=False)[0]['summary_text']\n",
    "\n",
    "class ChunkWithContext:\n",
    "    def __init__(self, chunk, summary):\n",
    "        self.chunk = chunk + \"\\n\\nSummary: \" + summary\n",
    "    def __repr__(self):\n",
    "        return f\"Chunk: {self.chunk}\\n\"\n",
    "\n",
    "chunks = [\n",
    "    \"Artificial intelligence (AI) is revolutionizing healthcare by providing advanced diagnostic tools, personalized treatment plans, and improved patient care.\",\n",
    "    \"Machine learning algorithms analyze large datasets to identify patterns and predict outcomes, aiding doctors in making more informed decisions.\",\n",
    "    \"AI-powered systems can automate routine tasks, reducing the burden on healthcare professionals and allowing them to focus on more complex patient care.\",\n",
    "    \"The integration of AI in healthcare is also improving the accuracy and efficiency of medical research.\",\n",
    "    \"Despite the benefits, there are challenges such as data privacy concerns and the need for robust regulatory frameworks.\"\n",
    "]\n",
    "\n",
    "chunk_with_contexts = [ChunkWithContext(chunk, summary) for chunk in chunks]\n",
    "for item in chunk_with_contexts:\n",
    "    print(item)"
   ]
  },
  {
   "cell_type": "code",
   "execution_count": null,
   "id": "beb8b4a3-b5d4-48ae-aac7-75c0daa31031",
   "metadata": {},
   "outputs": [],
   "source": []
  }
 ],
 "metadata": {
  "kernelspec": {
   "display_name": "Python (myProject)",
   "language": "python",
   "name": "myproject"
  },
  "language_info": {
   "codemirror_mode": {
    "name": "ipython",
    "version": 3
   },
   "file_extension": ".py",
   "mimetype": "text/x-python",
   "name": "python",
   "nbconvert_exporter": "python",
   "pygments_lexer": "ipython3",
   "version": "3.10.14"
  }
 },
 "nbformat": 4,
 "nbformat_minor": 5
}
