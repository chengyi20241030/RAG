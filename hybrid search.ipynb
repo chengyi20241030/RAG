{
 "cells": [
  {
   "cell_type": "markdown",
   "id": "d4f9839c-659a-4099-aa12-7cc9ef9a95d3",
   "metadata": {},
   "source": [
    "# Hybrid Search"
   ]
  },
  {
   "cell_type": "code",
   "execution_count": 5,
   "id": "dfaa4094-d94e-4756-8f0e-3584c8d79e98",
   "metadata": {},
   "outputs": [
    {
     "name": "stdout",
     "output_type": "stream",
     "text": [
      "Dense Retrieval Results:\n",
      "Document: AI is used in healthcare diagnostics to analyze patient data. - Score: 0.9189\n",
      "Document: The role of AI in healthcare diagnostics is crucial. - Score: 0.8867\n",
      "Document: AI technology is revolutionizing the way healthcare diagnoses are made. - Score: 0.8040\n",
      "Document: Healthcare diagnostics benefit greatly from artificial intelligence applications. - Score: 0.7690\n",
      "Document: Advanced machine learning techniques help in identifying diseases from medical images. - Score: 0.4874\n",
      "Document: Deep learning models improve the accuracy of disease detection in healthcare. - Score: 0.4621\n",
      "Document: Machine learning enhances the efficiency of various sectors, including finance. - Score: 0.3148\n",
      "Document: IoT devices contribute to smart city infrastructure and healthcare monitoring. - Score: 0.3135\n",
      "\n",
      "Sparse Retrieval Results:\n",
      "Document: AI is used in healthcare diagnostics to analyze patient data. - Score: 0.6821\n",
      "Document: The role of AI in healthcare diagnostics is crucial. - Score: 0.5455\n",
      "Document: AI technology is revolutionizing the way healthcare diagnoses are made. - Score: 0.2602\n",
      "Document: Healthcare diagnostics benefit greatly from artificial intelligence applications. - Score: 0.1692\n",
      "Document: Deep learning models improve the accuracy of disease detection in healthcare. - Score: 0.1276\n",
      "Document: Advanced machine learning techniques help in identifying diseases from medical images. - Score: 0.0733\n",
      "Document: IoT devices contribute to smart city infrastructure and healthcare monitoring. - Score: 0.0465\n",
      "Document: Machine learning enhances the efficiency of various sectors, including finance. - Score: 0.0000\n",
      "\n",
      "Hybrid-Search Results:\n",
      "Document: AI is used in healthcare diagnostics to analyze patient data. - Combined Score: 1.6010\n",
      "Document: The role of AI in healthcare diagnostics is crucial. - Combined Score: 1.4322\n",
      "Document: AI technology is revolutionizing the way healthcare diagnoses are made. - Combined Score: 1.0642\n",
      "Document: Healthcare diagnostics benefit greatly from artificial intelligence applications. - Combined Score: 0.9382\n",
      "Document: Deep learning models improve the accuracy of disease detection in healthcare. - Combined Score: 0.5897\n",
      "Document: Advanced machine learning techniques help in identifying diseases from medical images. - Combined Score: 0.5608\n",
      "Document: IoT devices contribute to smart city infrastructure and healthcare monitoring. - Combined Score: 0.3600\n",
      "Document: Machine learning enhances the efficiency of various sectors, including finance. - Combined Score: 0.3148\n"
     ]
    }
   ],
   "source": [
    "from sentence_transformers import SentenceTransformer, util\n",
    "from sklearn.feature_extraction.text import TfidfVectorizer\n",
    "import numpy as np\n",
    "\n",
    "dense_model = SentenceTransformer('all-MiniLM-L6-v2')\n",
    "\n",
    "documents = [\n",
    "    \"AI is used in healthcare diagnostics to analyze patient data.\",  # High Sparse, low Dense\n",
    "    \"The role of AI in healthcare diagnostics is crucial.\",  # High Sparse, low Dense\n",
    "\n",
    "    \"Advanced machine learning techniques help in identifying diseases from medical images.\",  # High Dense, low Sparse\n",
    "    \"Deep learning models improve the accuracy of disease detection in healthcare.\",  # High Dense, low Sparse\n",
    "\n",
    "    \"AI technology is revolutionizing the way healthcare diagnoses are made.\",  # High Dense and Sparse\n",
    "    \"Healthcare diagnostics benefit greatly from artificial intelligence applications.\",  # High Dense and Sparse\n",
    "\n",
    "    \"Machine learning enhances the efficiency of various sectors, including finance.\",  # Low relevance, both Dense and Sparse\n",
    "    \"IoT devices contribute to smart city infrastructure and healthcare monitoring.\",  # Low relevance, both Dense and Sparse\n",
    "]\n",
    "\n",
    "query = \"How is AI used in healthcare diagnostics?\"\n",
    "\n",
    "# Dense Retrieval\n",
    "query_embedding = dense_model.encode(query, convert_to_tensor=True)\n",
    "document_embeddings = dense_model.encode(documents, convert_to_tensor=True)\n",
    "dense_scores = util.pytorch_cos_sim(query_embedding, document_embeddings).numpy()[0]\n",
    "\n",
    "# Sparse Retrieval (TF-IDF)\n",
    "vectorizer = TfidfVectorizer()\n",
    "tfidf_matrix = vectorizer.fit_transform(documents)\n",
    "query_vector = vectorizer.transform([query])\n",
    "sparse_scores = np.dot(query_vector, tfidf_matrix.T).toarray()[0]\n",
    "\n",
    "# Hybrid-Search:\n",
    "combined_scores = dense_scores + sparse_scores\n",
    "sorted_indices = np.argsort(-combined_scores)\n",
    "\n",
    "# print\n",
    "print(\"Dense Retrieval Results:\")\n",
    "for idx in np.argsort(-dense_scores):\n",
    "    print(f\"Document: {documents[idx]} - Score: {dense_scores[idx]:.4f}\")\n",
    "\n",
    "print(\"\\nSparse Retrieval Results:\")\n",
    "for idx in np.argsort(-sparse_scores):\n",
    "    print(f\"Document: {documents[idx]} - Score: {sparse_scores[idx]:.4f}\")\n",
    "\n",
    "print(\"\\nHybrid-Search Results:\")\n",
    "for idx in sorted_indices:\n",
    "    print(f\"Document: {documents[idx]} - Combined Score: {combined_scores[idx]:.4f}\")"
   ]
  },
  {
   "cell_type": "code",
   "execution_count": null,
   "id": "dd78c26e-004d-4abe-95e3-3104c1a5ed01",
   "metadata": {},
   "outputs": [],
   "source": []
  }
 ],
 "metadata": {
  "kernelspec": {
   "display_name": "KnowledgeBase",
   "language": "python",
   "name": "myknowledgebasetest"
  },
  "language_info": {
   "codemirror_mode": {
    "name": "ipython",
    "version": 3
   },
   "file_extension": ".py",
   "mimetype": "text/x-python",
   "name": "python",
   "nbconvert_exporter": "python",
   "pygments_lexer": "ipython3",
   "version": "3.10.14"
  }
 },
 "nbformat": 4,
 "nbformat_minor": 5
}
