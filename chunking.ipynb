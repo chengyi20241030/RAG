{
 "cells": [
  {
   "cell_type": "code",
   "execution_count": 1,
   "id": "fbf17671-02e5-401d-891f-5152f203d33e",
   "metadata": {},
   "outputs": [
    {
     "data": {
      "text/plain": [
       "False"
      ]
     },
     "execution_count": 1,
     "metadata": {},
     "output_type": "execute_result"
    }
   ],
   "source": [
    "from langchain_experimental.text_splitter import SemanticChunker\n",
    "from langchain_openai.embeddings import OpenAIEmbeddings\n",
    "from langchain_community.document_loaders import TextLoader\n",
    "import matplotlib.pyplot as plt\n",
    "import os\n",
    "from dotenv import load_dotenv\n",
    "\n",
    "from langchain.text_splitter import RecursiveCharacterTextSplitter\n",
    "from langchain_community.document_loaders import TextLoader\n",
    "import matplotlib.pyplot as plt\n",
    "\n",
    "load_dotenv()"
   ]
  },
  {
   "cell_type": "code",
   "execution_count": null,
   "id": "33b14284-30fd-4cb5-aa72-96e35a97ac6d",
   "metadata": {},
   "outputs": [],
   "source": [
    "# Load the document\n",
    "superherofacts = TextLoader('superhero_facts.txt')"
   ]
  },
  {
   "cell_type": "markdown",
   "id": "8c16f1e2-479d-40aa-90bf-64d825ff5b8c",
   "metadata": {},
   "source": [
    "# Fix Size Chunking"
   ]
  },
  {
   "cell_type": "code",
   "execution_count": 13,
   "id": "f16bdc92-2be2-4936-b433-405ac1e1c5cc",
   "metadata": {
    "scrolled": true
   },
   "outputs": [
    {
     "name": "stdout",
     "output_type": "stream",
     "text": [
      "Chunk 1: Ant-Man (Hank Pym) discovered subatomic particles known as \"Pym Particles.\" He created serums that could shrink or grow objects and people. Additional \n",
      "\n",
      "Chunk 2: ly, he developed a cybernetic helmet to communicate with ants. Using his size-changing abilities, he battled various villains like Egghead. He is also \n",
      "\n",
      "Chunk 3:  a founding member of the Avengers alongside Wasp.\n",
      "Aquaman's real name is Arthur Curry, also known as Orin. He is the telepathic ruler of Atlantis and \n",
      "\n",
      "Chunk 4:  the Earth's oceans, possessing superhuman strength, speed, and the ability to command sea life. As a founding member of the Justice League of America \n",
      "\n",
      "Chunk 5: , his most consistent nemesis is Black Manta.\n",
      "Bane was born and raised in the PeÃ±a Duro prison in Santa Prisca, where he developed extraordinary phys \n",
      "\n",
      "Chunk 6: ical and mental skills while imprisoned. He became a test subject for a drug called Venom, which enhanced his strength. Bane is famous for breaking Ba \n",
      "\n",
      "Chunk 7: tman's back in the \"Knightfall\" storyline. His intelligence is as formidable as his physical strength, making him a dangerous foe.\n",
      "Batwoman (Helena Wa \n",
      "\n",
      "Chunk 8: yne) is the daughter of Bruce Wayne and Selina Kyle from an alternate Earth. Raised to become Batman's eventual successor, she fought alongside him as \n",
      "\n",
      "Chunk 9:  Robin on her Earth. She witnessed her father's death while defending against Parademons and, along with her friend Supergirl, was transported to anot \n",
      "\n",
      "Chunk 10: her universe through a Boom Tube.\n",
      "Black Panther (1,000,000 B.C.) discovered a Vibranium meteor and unlocked its secrets. As part of the Stone Age Aven \n",
      "\n",
      "Chunk 11: gers, he fought against an out-of-control Celestial called the Fallen. He helped defeat and seal the Fallen in an underground chamber in South Africa. \n",
      "\n",
      "Chunk 12:  His history after defeating the Fallen is largely unknown.\n",
      "Buffy Summers became the Slayer at the age of fifteen. Initially trained by her first Watc \n",
      "\n",
      "Chunk 13: her, Merrick, she defeated the vampire king Lothos in her first major battle. After moving to Sunnydale, she became friends with Xander Harris and Wil \n",
      "\n",
      "Chunk 14: low Rosenberg and formed the \"Scooby Gang\" to battle supernatural threats.\n",
      "Captain America 2099 is Roberta Mendez, wife of an Alchemax operative. She  \n",
      "\n",
      "Chunk 15: was forcefully subjected to the Super-Soldier Serum and became the leader of Alchemax's Avengers. Roberta and Captain America 2099 are two different p \n",
      "\n",
      "Chunk 16: ersonas of the same woman, with Roberta being unaware of her superhero identity.\n",
      "Captain America (Venomized) is one of only two men to receive the sup \n",
      "\n",
      "Chunk 17: er-soldier formula. Bonded to a symbiote as a government experiment, he maintained control over it due to his strong will. He joined Toxin's resistanc \n",
      "\n",
      "Chunk 18: e against other symbiotes and uses a circular shield with extremely sharp edges as his weapon.\n",
      "Captain Planet is formed by combining the powers of the \n",
      "\n",
      "Chunk 19:  five Planeteers' rings. His powers represent earth, fire, wind, water, and heart. With sky-blue skin, grass-green hair, and a crystal-compound body,  \n",
      "\n",
      "Chunk 20: he possesses a wide array of abilities, including flight, super strength, and shapeshifting. However, his powers are significantly weakened by polluti \n",
      "\n",
      "Chunk 21: on.\n",
      "Catwoman (Injustice) grew up in the harsh environment of Gotham City. She worked as a dominatrix in the East End before becoming a costumed thief, \n",
      "\n",
      "Chunk 22:  inspired by seeing Batman in his early days. Her relationship with Batman is complex, sometimes as an adversary and sometimes as an ally. Over time,  \n",
      "\n",
      "Chunk 23: she has evolved into more of an antihero, serving as a constant ally to the Bat-Family. \n",
      "\n"
     ]
    }
   ],
   "source": [
    "chunk_size = 150\n",
    "with open('superhero_facts.txt', 'r') as file:\n",
    "    data = file.read()\n",
    "\n",
    "chunks = [data[i:i+chunk_size] for i in range(0, len(data), chunk_size)]\n",
    "for i, chunk in enumerate(chunks, 1):\n",
    "    print(f\"Chunk {i}: {chunk} \\n\")"
   ]
  },
  {
   "cell_type": "markdown",
   "id": "a6d4c7d6-f498-4719-a514-78c0c417e217",
   "metadata": {},
   "source": [
    "# Recursive Chunking"
   ]
  },
  {
   "cell_type": "code",
   "execution_count": 11,
   "id": "58ddc5a3-556b-4607-8c3d-01b80b9ad072",
   "metadata": {
    "scrolled": true
   },
   "outputs": [
    {
     "name": "stdout",
     "output_type": "stream",
     "text": [
      "Chunk 1: Ant-Man (Hank Pym) discovered subatomic particles known as \"Pym Particles.\" He created serums that could shrink or grow objects and people. \n",
      "\n",
      "Chunk 2: Additionally, he developed a cybernetic helmet to communicate with ants. Using his size-changing abilities, he battled various villains like Egghead. \n",
      "\n",
      "Chunk 3: He is also a founding member of the Avengers alongside Wasp. \n",
      "\n",
      "Chunk 4: Aquaman's real name is Arthur Curry, also known as Orin. He is the telepathic ruler of Atlantis and the Earth's oceans, possessing superhuman \n",
      "\n",
      "Chunk 5: strength, speed, and the ability to command sea life. As a founding member of the Justice League of America, his most consistent nemesis is Black \n",
      "\n",
      "Chunk 6: Manta. \n",
      "\n",
      "Chunk 7: Bane was born and raised in the PeÃ±a Duro prison in Santa Prisca, where he developed extraordinary physical and mental skills while imprisoned. He \n",
      "\n",
      "Chunk 8: became a test subject for a drug called Venom, which enhanced his strength. Bane is famous for breaking Batman's back in the \"Knightfall\" storyline. \n",
      "\n",
      "Chunk 9: His intelligence is as formidable as his physical strength, making him a dangerous foe. \n",
      "\n",
      "Chunk 10: Batwoman (Helena Wayne) is the daughter of Bruce Wayne and Selina Kyle from an alternate Earth. Raised to become Batman's eventual successor, she \n",
      "\n",
      "Chunk 11: fought alongside him as Robin on her Earth. She witnessed her father's death while defending against Parademons and, along with her friend Supergirl, \n",
      "\n",
      "Chunk 12: was transported to another universe through a Boom Tube. \n",
      "\n",
      "Chunk 13: Black Panther (1,000,000 B.C.) discovered a Vibranium meteor and unlocked its secrets. As part of the Stone Age Avengers, he fought against an \n",
      "\n",
      "Chunk 14: out-of-control Celestial called the Fallen. He helped defeat and seal the Fallen in an underground chamber in South Africa. His history after \n",
      "\n",
      "Chunk 15: defeating the Fallen is largely unknown. \n",
      "\n",
      "Chunk 16: Buffy Summers became the Slayer at the age of fifteen. Initially trained by her first Watcher, Merrick, she defeated the vampire king Lothos in her \n",
      "\n",
      "Chunk 17: first major battle. After moving to Sunnydale, she became friends with Xander Harris and Willow Rosenberg and formed the \"Scooby Gang\" to battle \n",
      "\n",
      "Chunk 18: supernatural threats. \n",
      "\n",
      "Chunk 19: Captain America 2099 is Roberta Mendez, wife of an Alchemax operative. She was forcefully subjected to the Super-Soldier Serum and became the leader \n",
      "\n",
      "Chunk 20: of Alchemax's Avengers. Roberta and Captain America 2099 are two different personas of the same woman, with Roberta being unaware of her superhero \n",
      "\n",
      "Chunk 21: identity. \n",
      "\n",
      "Chunk 22: Captain America (Venomized) is one of only two men to receive the super-soldier formula. Bonded to a symbiote as a government experiment, he \n",
      "\n",
      "Chunk 23: maintained control over it due to his strong will. He joined Toxin's resistance against other symbiotes and uses a circular shield with extremely \n",
      "\n",
      "Chunk 24: sharp edges as his weapon. \n",
      "\n",
      "Chunk 25: Captain Planet is formed by combining the powers of the five Planeteers' rings. His powers represent earth, fire, wind, water, and heart. With \n",
      "\n",
      "Chunk 26: sky-blue skin, grass-green hair, and a crystal-compound body, he possesses a wide array of abilities, including flight, super strength, and \n",
      "\n",
      "Chunk 27: shapeshifting. However, his powers are significantly weakened by pollution. \n",
      "\n",
      "Chunk 28: Catwoman (Injustice) grew up in the harsh environment of Gotham City. She worked as a dominatrix in the East End before becoming a costumed thief, \n",
      "\n",
      "Chunk 29: inspired by seeing Batman in his early days. Her relationship with Batman is complex, sometimes as an adversary and sometimes as an ally. Over time, \n",
      "\n",
      "Chunk 30: she has evolved into more of an antihero, serving as a constant ally to the Bat-Family. \n",
      "\n"
     ]
    }
   ],
   "source": [
    "# Create the RecursiveCharacterTextSplitter\n",
    "superherofacts_splitter = RecursiveCharacterTextSplitter(separators=[\"\\n\\n\", \"\\n\", \" \", \"\"],chunk_size=150,chunk_overlap=0,length_function=len)\n",
    "chunks = superherofacts.load_and_split(text_splitter=superherofacts_splitter)\n",
    "for i, chunk in enumerate(chunks, 1):\n",
    "    print(f\"Chunk {i}: {chunk.page_content} \\n\")"
   ]
  },
  {
   "cell_type": "markdown",
   "id": "cff496ca-9aeb-44f9-acef-01f34b32d338",
   "metadata": {},
   "source": [
    "# Semantic Chunking"
   ]
  },
  {
   "cell_type": "code",
   "execution_count": 12,
   "id": "174f20a5-2e84-4627-9615-9d2ff98effb5",
   "metadata": {
    "scrolled": true
   },
   "outputs": [
    {
     "name": "stdout",
     "output_type": "stream",
     "text": [
      "Chunk 1: Ant-Man (Hank Pym) discovered subatomic particles known as \"Pym Particles.\" He created serums that could shrink or grow objects and people. Additionally, he developed a cybernetic helmet to communicate with ants. \n",
      "\n",
      "Chunk 2: Using his size-changing abilities, he battled various villains like Egghead. \n",
      "\n",
      "Chunk 3: He is also a founding member of the Avengers alongside Wasp. Aquaman's real name is Arthur Curry, also known as Orin. He is the telepathic ruler of Atlantis and the Earth's oceans, possessing superhuman strength, speed, and the ability to command sea life. \n",
      "\n",
      "Chunk 4: As a founding member of the Justice League of America, his most consistent nemesis is Black Manta. Bane was born and raised in the PeÃ±a Duro prison in Santa Prisca, where he developed extraordinary physical and mental skills while imprisoned. He became a test subject for a drug called Venom, which enhanced his strength. Bane is famous for breaking Batman's back in the \"Knightfall\" storyline. His intelligence is as formidable as his physical strength, making him a dangerous foe. Batwoman (Helena Wayne) is the daughter of Bruce Wayne and Selina Kyle from an alternate Earth. Raised to become Batman's eventual successor, she fought alongside him as Robin on her Earth. \n",
      "\n",
      "Chunk 5: She witnessed her father's death while defending against Parademons and, along with her friend Supergirl, was transported to another universe through a Boom Tube. Black Panther (1,000,000 B.C.) discovered a Vibranium meteor and unlocked its secrets. As part of the Stone Age Avengers, he fought against an out-of-control Celestial called the Fallen. \n",
      "\n",
      "Chunk 6: He helped defeat and seal the Fallen in an underground chamber in South Africa. \n",
      "\n",
      "Chunk 7: His history after defeating the Fallen is largely unknown. Buffy Summers became the Slayer at the age of fifteen. Initially trained by her first Watcher, Merrick, she defeated the vampire king Lothos in her first major battle. \n",
      "\n",
      "Chunk 8: After moving to Sunnydale, she became friends with Xander Harris and Willow Rosenberg and formed the \"Scooby Gang\" to battle supernatural threats. Captain America 2099 is Roberta Mendez, wife of an Alchemax operative. She was forcefully subjected to the Super-Soldier Serum and became the leader of Alchemax's Avengers. Roberta and Captain America 2099 are two different personas of the same woman, with Roberta being unaware of her superhero identity. Captain America (Venomized) is one of only two men to receive the super-soldier formula. Bonded to a symbiote as a government experiment, he maintained control over it due to his strong will. He joined Toxin's resistance against other symbiotes and uses a circular shield with extremely sharp edges as his weapon. Captain Planet is formed by combining the powers of the five Planeteers' rings. His powers represent earth, fire, wind, water, and heart. \n",
      "\n",
      "Chunk 9: With sky-blue skin, grass-green hair, and a crystal-compound body, he possesses a wide array of abilities, including flight, super strength, and shapeshifting. \n",
      "\n",
      "Chunk 10: However, his powers are significantly weakened by pollution. Catwoman (Injustice) grew up in the harsh environment of Gotham City. She worked as a dominatrix in the East End before becoming a costumed thief, inspired by seeing Batman in his early days. Her relationship with Batman is complex, sometimes as an adversary and sometimes as an ally. Over time, she has evolved into more of an antihero, serving as a constant ally to the Bat-Family. \n",
      "\n"
     ]
    }
   ],
   "source": [
    "superherofacts_text_splitter = SemanticChunker(OpenAIEmbeddings(openai_api_key=os.getenv(\"OPENAI_API_KEY\")),number_of_chunks=10)\n",
    "chunks = superherofacts.load_and_split(text_splitter=superherofacts_text_splitter)\n",
    "for i, chunk in enumerate(chunks, 1):\n",
    "    print(f\"Chunk {i}: {chunk.page_content} \\n\")"
   ]
  },
  {
   "cell_type": "code",
   "execution_count": null,
   "id": "1df74ff0-6ecf-43e2-a389-7709326ce259",
   "metadata": {},
   "outputs": [],
   "source": []
  }
 ],
 "metadata": {
  "kernelspec": {
   "display_name": "KnowledgeBase",
   "language": "python",
   "name": "myknowledgebasetest"
  },
  "language_info": {
   "codemirror_mode": {
    "name": "ipython",
    "version": 3
   },
   "file_extension": ".py",
   "mimetype": "text/x-python",
   "name": "python",
   "nbconvert_exporter": "python",
   "pygments_lexer": "ipython3",
   "version": "3.10.14"
  }
 },
 "nbformat": 4,
 "nbformat_minor": 5
}
