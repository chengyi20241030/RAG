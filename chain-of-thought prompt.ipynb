{
 "cells": [
  {
   "cell_type": "markdown",
   "id": "180d7b33-9b07-4f51-97f2-3dc039d4ee40",
   "metadata": {},
   "source": [
    "# Standard Prompt"
   ]
  },
  {
   "cell_type": "code",
   "execution_count": 24,
   "id": "857cce3a-81e6-482a-b48a-296b255b76a1",
   "metadata": {},
   "outputs": [
    {
     "name": "stdout",
     "output_type": "stream",
     "text": [
      "Direct Prompt Response:\n",
      " The total cost of the three items is $585.\n"
     ]
    }
   ],
   "source": [
    "import openai\n",
    "openai.api_key = os.getenv(\"OPENAI_API_KEY\")\n",
    "\n",
    "prompt = \"Calculate the total cost of three items with the following prices and adjustments: $100 increased by 10%, $200 decreased by 5%, $300 unchanged.\"\n",
    "response = openai.ChatCompletion.create(\n",
    "    model=\"gpt-3.5-turbo\",\n",
    "    messages=[\n",
    "        {\"role\": \"system\", \"content\": \"You are a helpful assistant.\"},\n",
    "        {\"role\": \"user\", \"content\": prompt}\n",
    "    ],\n",
    "    max_tokens=450,\n",
    "    temperature=0.7\n",
    ")\n",
    "\n",
    "print(\"Direct Prompt Response:\\n\", response.choices[0].message['content'].strip())"
   ]
  },
  {
   "cell_type": "markdown",
   "id": "d9f75b21-80b2-4a04-bb5f-f0653c5c8238",
   "metadata": {},
   "source": [
    "# Chain-Of-Thought Prompt"
   ]
  },
  {
   "cell_type": "code",
   "execution_count": 25,
   "id": "136385cb-7a79-408f-89d7-703223acba24",
   "metadata": {},
   "outputs": [
    {
     "name": "stdout",
     "output_type": "stream",
     "text": [
      "Direct Prompt Response:\n",
      " Sure! Let's break it down step by step.\n",
      "\n",
      "1. Increase the price of the first item by 10%:\n",
      "$100 increased by 10% is calculated as:\n",
      "$100 + ($100 * 0.10) = $100 + $10 = $110\n",
      "\n",
      "2. Decrease the price of the second item by 5%:\n",
      "$200 decreased by 5% is calculated as:\n",
      "$200 - ($200 * 0.05) = $200 - $10 = $190\n",
      "\n",
      "3. The price of the third item remains unchanged at $300.\n",
      "\n",
      "Now, let's calculate the total cost of all three items:\n",
      "Total cost = $110 + $190 + $300\n",
      "Total cost = $600\n",
      "\n",
      "Therefore, the total cost of the three items is $600.\n"
     ]
    }
   ],
   "source": [
    "import openai\n",
    "openai.api_key = os.getenv(\"OPENAI_API_KEY\")\n",
    "\n",
    "prompt = \"\"\"Calculate the total cost of three items with the following prices and adjustments: $100 increased by 10%, $200 decreased by 5%, $300 unchanged. \n",
    "            Let's think step by step.\"\"\"\n",
    "response = openai.ChatCompletion.create(\n",
    "    model=\"gpt-3.5-turbo\",\n",
    "    messages=[\n",
    "        {\"role\": \"system\", \"content\": \"You are a helpful assistant.\"},\n",
    "        {\"role\": \"user\", \"content\": prompt}\n",
    "    ],\n",
    "    max_tokens=450,\n",
    "    temperature=0.7\n",
    ")\n",
    "\n",
    "print(\"Direct Prompt Response:\\n\", response.choices[0].message['content'].strip())"
   ]
  },
  {
   "cell_type": "code",
   "execution_count": null,
   "id": "fb69aa31-f175-4791-ad46-6112a92299f8",
   "metadata": {},
   "outputs": [],
   "source": []
  }
 ],
 "metadata": {
  "kernelspec": {
   "display_name": "Python (myProject)",
   "language": "python",
   "name": "myproject"
  },
  "language_info": {
   "codemirror_mode": {
    "name": "ipython",
    "version": 3
   },
   "file_extension": ".py",
   "mimetype": "text/x-python",
   "name": "python",
   "nbconvert_exporter": "python",
   "pygments_lexer": "ipython3",
   "version": "3.10.14"
  }
 },
 "nbformat": 4,
 "nbformat_minor": 5
}
